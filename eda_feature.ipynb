{
 "cells": [
  {
   "cell_type": "code",
   "execution_count": 27,
   "id": "3e3fcc44",
   "metadata": {},
   "outputs": [],
   "source": [
    "import pandas as pd\n",
    "import numpy as np\n",
    "import matplotlib.pyplot as plt\n",
    "import seaborn as sns"
   ]
  },
  {
   "cell_type": "code",
   "execution_count": 2,
   "id": "29faeae8",
   "metadata": {},
   "outputs": [
    {
     "name": "stdout",
     "output_type": "stream",
     "text": [
      "['Morning_Routine_Productivity_Dataset.csv']\n"
     ]
    }
   ],
   "source": [
    "import zipfile\n",
    "with zipfile.ZipFile(\"archive (4).zip\", 'r') as z:\n",
    "    z.extractall()\n",
    "    print(z.namelist())"
   ]
  },
  {
   "cell_type": "code",
   "execution_count": 4,
   "id": "c996de6b",
   "metadata": {},
   "outputs": [
    {
     "data": {
      "text/html": [
       "<div>\n",
       "<style scoped>\n",
       "    .dataframe tbody tr th:only-of-type {\n",
       "        vertical-align: middle;\n",
       "    }\n",
       "\n",
       "    .dataframe tbody tr th {\n",
       "        vertical-align: top;\n",
       "    }\n",
       "\n",
       "    .dataframe thead th {\n",
       "        text-align: right;\n",
       "    }\n",
       "</style>\n",
       "<table border=\"1\" class=\"dataframe\">\n",
       "  <thead>\n",
       "    <tr style=\"text-align: right;\">\n",
       "      <th></th>\n",
       "      <th>Date</th>\n",
       "      <th>Wake-up Time</th>\n",
       "      <th>Sleep Duration (hrs)</th>\n",
       "      <th>Meditation (mins)</th>\n",
       "      <th>Exercise (mins)</th>\n",
       "      <th>Breakfast Type</th>\n",
       "      <th>Journaling (Y/N)</th>\n",
       "      <th>Work Start Time</th>\n",
       "      <th>Productivity Score (1-10)</th>\n",
       "      <th>Mood</th>\n",
       "      <th>Notes</th>\n",
       "    </tr>\n",
       "  </thead>\n",
       "  <tbody>\n",
       "    <tr>\n",
       "      <th>0</th>\n",
       "      <td>2023-02-01 10:21:52.870632</td>\n",
       "      <td>5:30 AM</td>\n",
       "      <td>6.6</td>\n",
       "      <td>20</td>\n",
       "      <td>60</td>\n",
       "      <td>Protein-rich</td>\n",
       "      <td>Yes</td>\n",
       "      <td>6:30 AM</td>\n",
       "      <td>6</td>\n",
       "      <td>Neutral</td>\n",
       "      <td>Collection whole decision middle.</td>\n",
       "    </tr>\n",
       "    <tr>\n",
       "      <th>1</th>\n",
       "      <td>2023-02-02 10:21:52.870632</td>\n",
       "      <td>8:15 AM</td>\n",
       "      <td>8.0</td>\n",
       "      <td>5</td>\n",
       "      <td>50</td>\n",
       "      <td>Heavy</td>\n",
       "      <td>No</td>\n",
       "      <td>11:15 AM</td>\n",
       "      <td>7</td>\n",
       "      <td>Happy</td>\n",
       "      <td>Tree player behavior various up such attention...</td>\n",
       "    </tr>\n",
       "    <tr>\n",
       "      <th>2</th>\n",
       "      <td>2023-02-03 10:21:52.870632</td>\n",
       "      <td>8:30 AM</td>\n",
       "      <td>8.9</td>\n",
       "      <td>25</td>\n",
       "      <td>30</td>\n",
       "      <td>Carb-rich</td>\n",
       "      <td>Yes</td>\n",
       "      <td>10:30 AM</td>\n",
       "      <td>10</td>\n",
       "      <td>Happy</td>\n",
       "      <td>If hard focus nor trip forward change per.</td>\n",
       "    </tr>\n",
       "    <tr>\n",
       "      <th>3</th>\n",
       "      <td>2023-02-04 10:21:52.870632</td>\n",
       "      <td>5:00 AM</td>\n",
       "      <td>8.4</td>\n",
       "      <td>25</td>\n",
       "      <td>30</td>\n",
       "      <td>Skipped</td>\n",
       "      <td>Yes</td>\n",
       "      <td>7:00 AM</td>\n",
       "      <td>7</td>\n",
       "      <td>Happy</td>\n",
       "      <td>Physical threat federal with thing.</td>\n",
       "    </tr>\n",
       "    <tr>\n",
       "      <th>4</th>\n",
       "      <td>2023-02-05 10:21:52.870632</td>\n",
       "      <td>5:15 AM</td>\n",
       "      <td>8.2</td>\n",
       "      <td>25</td>\n",
       "      <td>30</td>\n",
       "      <td>Heavy</td>\n",
       "      <td>No</td>\n",
       "      <td>6:15 AM</td>\n",
       "      <td>10</td>\n",
       "      <td>Happy</td>\n",
       "      <td>Ground class Mr future.</td>\n",
       "    </tr>\n",
       "  </tbody>\n",
       "</table>\n",
       "</div>"
      ],
      "text/plain": [
       "                         Date Wake-up Time  Sleep Duration (hrs)  \\\n",
       "0  2023-02-01 10:21:52.870632      5:30 AM                   6.6   \n",
       "1  2023-02-02 10:21:52.870632      8:15 AM                   8.0   \n",
       "2  2023-02-03 10:21:52.870632      8:30 AM                   8.9   \n",
       "3  2023-02-04 10:21:52.870632      5:00 AM                   8.4   \n",
       "4  2023-02-05 10:21:52.870632      5:15 AM                   8.2   \n",
       "\n",
       "   Meditation (mins)  Exercise (mins) Breakfast Type Journaling (Y/N)  \\\n",
       "0                 20               60   Protein-rich              Yes   \n",
       "1                  5               50          Heavy               No   \n",
       "2                 25               30      Carb-rich              Yes   \n",
       "3                 25               30        Skipped              Yes   \n",
       "4                 25               30          Heavy               No   \n",
       "\n",
       "  Work Start Time  Productivity Score (1-10)     Mood  \\\n",
       "0         6:30 AM                          6  Neutral   \n",
       "1        11:15 AM                          7    Happy   \n",
       "2        10:30 AM                         10    Happy   \n",
       "3         7:00 AM                          7    Happy   \n",
       "4         6:15 AM                         10    Happy   \n",
       "\n",
       "                                               Notes  \n",
       "0                  Collection whole decision middle.  \n",
       "1  Tree player behavior various up such attention...  \n",
       "2         If hard focus nor trip forward change per.  \n",
       "3                Physical threat federal with thing.  \n",
       "4                            Ground class Mr future.  "
      ]
     },
     "execution_count": 4,
     "metadata": {},
     "output_type": "execute_result"
    }
   ],
   "source": [
    "df=pd.read_csv('Morning_Routine_Productivity_Dataset.csv')\n",
    "df.head()"
   ]
  },
  {
   "cell_type": "code",
   "execution_count": 5,
   "id": "cc4904d6",
   "metadata": {},
   "outputs": [
    {
     "data": {
      "text/plain": [
       "(900, 11)"
      ]
     },
     "execution_count": 5,
     "metadata": {},
     "output_type": "execute_result"
    }
   ],
   "source": [
    "df.shape"
   ]
  },
  {
   "cell_type": "code",
   "execution_count": 6,
   "id": "2d05bcfa",
   "metadata": {},
   "outputs": [
    {
     "data": {
      "text/plain": [
       "Index(['Date', 'Wake-up Time', 'Sleep Duration (hrs)', 'Meditation (mins)',\n",
       "       'Exercise (mins)', 'Breakfast Type', 'Journaling (Y/N)',\n",
       "       'Work Start Time', 'Productivity Score (1-10)', 'Mood', 'Notes'],\n",
       "      dtype='object')"
      ]
     },
     "execution_count": 6,
     "metadata": {},
     "output_type": "execute_result"
    }
   ],
   "source": [
    "\n",
    "df.columns"
   ]
  },
  {
   "cell_type": "code",
   "execution_count": 7,
   "id": "82cb9dbe",
   "metadata": {},
   "outputs": [
    {
     "name": "stdout",
     "output_type": "stream",
     "text": [
      "<class 'pandas.core.frame.DataFrame'>\n",
      "RangeIndex: 900 entries, 0 to 899\n",
      "Data columns (total 11 columns):\n",
      " #   Column                     Non-Null Count  Dtype  \n",
      "---  ------                     --------------  -----  \n",
      " 0   Date                       900 non-null    object \n",
      " 1   Wake-up Time               900 non-null    object \n",
      " 2   Sleep Duration (hrs)       900 non-null    float64\n",
      " 3   Meditation (mins)          900 non-null    int64  \n",
      " 4   Exercise (mins)            900 non-null    int64  \n",
      " 5   Breakfast Type             900 non-null    object \n",
      " 6   Journaling (Y/N)           900 non-null    object \n",
      " 7   Work Start Time            900 non-null    object \n",
      " 8   Productivity Score (1-10)  900 non-null    int64  \n",
      " 9   Mood                       900 non-null    object \n",
      " 10  Notes                      900 non-null    object \n",
      "dtypes: float64(1), int64(3), object(7)\n",
      "memory usage: 77.5+ KB\n"
     ]
    }
   ],
   "source": [
    "df.info()"
   ]
  },
  {
   "cell_type": "code",
   "execution_count": 8,
   "id": "98e49738",
   "metadata": {},
   "outputs": [
    {
     "data": {
      "text/html": [
       "<div>\n",
       "<style scoped>\n",
       "    .dataframe tbody tr th:only-of-type {\n",
       "        vertical-align: middle;\n",
       "    }\n",
       "\n",
       "    .dataframe tbody tr th {\n",
       "        vertical-align: top;\n",
       "    }\n",
       "\n",
       "    .dataframe thead th {\n",
       "        text-align: right;\n",
       "    }\n",
       "</style>\n",
       "<table border=\"1\" class=\"dataframe\">\n",
       "  <thead>\n",
       "    <tr style=\"text-align: right;\">\n",
       "      <th></th>\n",
       "      <th>Sleep Duration (hrs)</th>\n",
       "      <th>Meditation (mins)</th>\n",
       "      <th>Exercise (mins)</th>\n",
       "      <th>Productivity Score (1-10)</th>\n",
       "    </tr>\n",
       "  </thead>\n",
       "  <tbody>\n",
       "    <tr>\n",
       "      <th>count</th>\n",
       "      <td>900.000000</td>\n",
       "      <td>900.000000</td>\n",
       "      <td>900.000000</td>\n",
       "      <td>900.000000</td>\n",
       "    </tr>\n",
       "    <tr>\n",
       "      <th>mean</th>\n",
       "      <td>6.978444</td>\n",
       "      <td>14.711111</td>\n",
       "      <td>29.733333</td>\n",
       "      <td>5.811111</td>\n",
       "    </tr>\n",
       "    <tr>\n",
       "      <th>std</th>\n",
       "      <td>1.149872</td>\n",
       "      <td>9.937227</td>\n",
       "      <td>20.622568</td>\n",
       "      <td>2.157814</td>\n",
       "    </tr>\n",
       "    <tr>\n",
       "      <th>min</th>\n",
       "      <td>5.000000</td>\n",
       "      <td>0.000000</td>\n",
       "      <td>0.000000</td>\n",
       "      <td>1.000000</td>\n",
       "    </tr>\n",
       "    <tr>\n",
       "      <th>25%</th>\n",
       "      <td>5.900000</td>\n",
       "      <td>5.000000</td>\n",
       "      <td>10.000000</td>\n",
       "      <td>4.000000</td>\n",
       "    </tr>\n",
       "    <tr>\n",
       "      <th>50%</th>\n",
       "      <td>7.000000</td>\n",
       "      <td>15.000000</td>\n",
       "      <td>30.000000</td>\n",
       "      <td>6.000000</td>\n",
       "    </tr>\n",
       "    <tr>\n",
       "      <th>75%</th>\n",
       "      <td>8.000000</td>\n",
       "      <td>25.000000</td>\n",
       "      <td>50.000000</td>\n",
       "      <td>7.000000</td>\n",
       "    </tr>\n",
       "    <tr>\n",
       "      <th>max</th>\n",
       "      <td>9.000000</td>\n",
       "      <td>30.000000</td>\n",
       "      <td>60.000000</td>\n",
       "      <td>10.000000</td>\n",
       "    </tr>\n",
       "  </tbody>\n",
       "</table>\n",
       "</div>"
      ],
      "text/plain": [
       "       Sleep Duration (hrs)  Meditation (mins)  Exercise (mins)  \\\n",
       "count            900.000000         900.000000       900.000000   \n",
       "mean               6.978444          14.711111        29.733333   \n",
       "std                1.149872           9.937227        20.622568   \n",
       "min                5.000000           0.000000         0.000000   \n",
       "25%                5.900000           5.000000        10.000000   \n",
       "50%                7.000000          15.000000        30.000000   \n",
       "75%                8.000000          25.000000        50.000000   \n",
       "max                9.000000          30.000000        60.000000   \n",
       "\n",
       "       Productivity Score (1-10)  \n",
       "count                 900.000000  \n",
       "mean                    5.811111  \n",
       "std                     2.157814  \n",
       "min                     1.000000  \n",
       "25%                     4.000000  \n",
       "50%                     6.000000  \n",
       "75%                     7.000000  \n",
       "max                    10.000000  "
      ]
     },
     "execution_count": 8,
     "metadata": {},
     "output_type": "execute_result"
    }
   ],
   "source": [
    "df.describe()"
   ]
  },
  {
   "cell_type": "code",
   "execution_count": 9,
   "id": "ede89912",
   "metadata": {},
   "outputs": [
    {
     "data": {
      "text/plain": [
       "Date                         0\n",
       "Wake-up Time                 0\n",
       "Sleep Duration (hrs)         0\n",
       "Meditation (mins)            0\n",
       "Exercise (mins)              0\n",
       "Breakfast Type               0\n",
       "Journaling (Y/N)             0\n",
       "Work Start Time              0\n",
       "Productivity Score (1-10)    0\n",
       "Mood                         0\n",
       "Notes                        0\n",
       "dtype: int64"
      ]
     },
     "execution_count": 9,
     "metadata": {},
     "output_type": "execute_result"
    }
   ],
   "source": [
    "df.isnull().sum()"
   ]
  },
  {
   "cell_type": "code",
   "execution_count": 10,
   "id": "c6bf3a9e",
   "metadata": {},
   "outputs": [
    {
     "data": {
      "text/plain": [
       "np.int64(0)"
      ]
     },
     "execution_count": 10,
     "metadata": {},
     "output_type": "execute_result"
    }
   ],
   "source": [
    "df.duplicated().sum()"
   ]
  },
  {
   "cell_type": "code",
   "execution_count": 12,
   "id": "4f8159b1",
   "metadata": {},
   "outputs": [
    {
     "name": "stdout",
     "output_type": "stream",
     "text": [
      "0    2023-02-01 10:21:52.870632\n",
      "1    2023-02-02 10:21:52.870632\n",
      "2    2023-02-03 10:21:52.870632\n",
      "3    2023-02-04 10:21:52.870632\n",
      "4    2023-02-05 10:21:52.870632\n",
      "Name: Date, dtype: object\n",
      "895    2025-07-15 10:21:52.870632\n",
      "896    2025-07-16 10:21:52.870632\n",
      "897    2025-07-17 10:21:52.870632\n",
      "898    2025-07-18 10:21:52.870632\n",
      "899    2025-07-19 10:21:52.870632\n",
      "Name: Date, dtype: object\n"
     ]
    }
   ],
   "source": [
    "print(df.Date.head())\n",
    "print(df.Date.tail())"
   ]
  },
  {
   "cell_type": "code",
   "execution_count": 13,
   "id": "87b2bcbd",
   "metadata": {},
   "outputs": [
    {
     "data": {
      "text/plain": [
       "array(['5:30 AM', '8:15 AM', '8:30 AM', '5:00 AM', '5:15 AM', '7:15 AM',\n",
       "       '4:30 AM', '6:45 AM', '7:45 AM', '4:15 AM', '4:00 AM', '8:45 AM',\n",
       "       '7:00 AM', '9:45 AM', '5:45 AM', '6:30 AM', '9:00 AM', '9:30 AM',\n",
       "       '6:00 AM', '6:15 AM', '4:45 AM', '8:00 AM', '7:30 AM', '9:15 AM'],\n",
       "      dtype=object)"
      ]
     },
     "execution_count": 13,
     "metadata": {},
     "output_type": "execute_result"
    }
   ],
   "source": [
    "df['Wake-up Time'].unique()"
   ]
  },
  {
   "cell_type": "code",
   "execution_count": 14,
   "id": "ee88a1bd",
   "metadata": {},
   "outputs": [
    {
     "data": {
      "text/plain": [
       "array(['5:30 AM', '8:15 AM', '8:30 AM', '5:00 AM', '5:15 AM', '7:15 AM',\n",
       "       '4:30 AM', '6:45 AM', '7:45 AM', '4:15 AM', '4:00 AM', '8:45 AM',\n",
       "       '7:00 AM', '9:45 AM', '5:45 AM', '6:30 AM', '9:00 AM', '9:30 AM',\n",
       "       '6:00 AM', '6:15 AM', '4:45 AM', '8:00 AM', '7:30 AM', '9:15 AM'],\n",
       "      dtype=object)"
      ]
     },
     "execution_count": 14,
     "metadata": {},
     "output_type": "execute_result"
    }
   ],
   "source": [
    "df['Wake-up Time'].unique()\n"
   ]
  },
  {
   "cell_type": "code",
   "execution_count": 15,
   "id": "eac37b92",
   "metadata": {},
   "outputs": [
    {
     "data": {
      "text/plain": [
       "'9:45 AM'"
      ]
     },
     "execution_count": 15,
     "metadata": {},
     "output_type": "execute_result"
    }
   ],
   "source": [
    "df['Wake-up Time'].max()"
   ]
  },
  {
   "cell_type": "code",
   "execution_count": 16,
   "id": "50cab12e",
   "metadata": {},
   "outputs": [
    {
     "name": "stdout",
     "output_type": "stream",
     "text": [
      "[5.  5.1 5.2 5.3 5.4 5.5 5.6 5.7 5.8 5.9 6.  6.1 6.2 6.3 6.4 6.5 6.6 6.7\n",
      " 6.8 6.9 7.  7.1 7.2 7.3 7.4 7.5 7.6 7.7 7.8 7.9 8.  8.1 8.2 8.3 8.4 8.5\n",
      " 8.6 8.7 8.8 8.9 9. ]\n"
     ]
    }
   ],
   "source": [
    "#unique values and to see whether sleep hours are discrete or continuous\n",
    "sleep_unique=df['Sleep Duration (hrs)'].unique()\n",
    "sort_sleep=np.sort(sleep_unique)\n",
    "print(sort_sleep)"
   ]
  },
  {
   "cell_type": "code",
   "execution_count": 17,
   "id": "6fa69a5a",
   "metadata": {},
   "outputs": [
    {
     "data": {
      "text/plain": [
       "<matplotlib.legend.Legend at 0x227a513d750>"
      ]
     },
     "execution_count": 17,
     "metadata": {},
     "output_type": "execute_result"
    },
    {
     "data": {
      "image/png": "[encoded data removed]",
      "text/plain": [
       "<Figure size 640x480 with 1 Axes>"
      ]
     },
     "metadata": {},
     "output_type": "display_data"
    }
   ],
   "source": [
    "#to compare healthy,undersleep,oversleep\n",
    "sleep_data=df['Sleep Duration (hrs)']\n",
    "\n",
    "under_sleep=sleep_data[(sleep_data>=5)&(sleep_data<6)]\n",
    "normal_sleep=sleep_data[(sleep_data>=6)&(sleep_data<=8.5)]\n",
    "over_sleep=sleep_data[(sleep_data>8.5)&(sleep_data<=9)]\n",
    "\n",
    "plt.hist(under_sleep,bins=[5,6],color='red',edgecolor='black',label='Under sleep')\n",
    "plt.hist(normal_sleep,bins=[6,8.5],color='green',edgecolor='black',label='Normal')\n",
    "plt.hist(over_sleep, bins=[8.5,9],color='yellow',edgecolor='black',label='Over sleep')\n",
    "plt.xlabel('Sleep Duration (hrs)')\n",
    "plt.ylabel('Number of People')\n",
    "plt.title('Sleep Duration Histogram')\n",
    "plt.legend()\n"
   ]
  },
  {
   "cell_type": "code",
   "execution_count": 18,
   "id": "370aa141",
   "metadata": {},
   "outputs": [
    {
     "name": "stdout",
     "output_type": "stream",
     "text": [
      "226\n",
      "582\n",
      "92\n"
     ]
    }
   ],
   "source": [
    "print(len(under_sleep))\n",
    "print(len(normal_sleep))\n",
    "print(len(over_sleep))"
   ]
  },
  {
   "cell_type": "code",
   "execution_count": 19,
   "id": "c6b0afc0",
   "metadata": {},
   "outputs": [
    {
     "name": "stdout",
     "output_type": "stream",
     "text": [
      "-0.02386035827627985\n"
     ]
    }
   ],
   "source": [
    "#correlation of sleep and meditation\n",
    "correlation=df['Sleep Duration (hrs)'].corr(df['Meditation (mins)'])\n",
    "print(correlation)\n",
    "#value is nearly 0 ,there is no correlation"
   ]
  },
  {
   "cell_type": "code",
   "execution_count": 20,
   "id": "fee686c0",
   "metadata": {},
   "outputs": [],
   "source": [
    "#counting more minutes and less minutes for healthy day\n",
    "total_mins=df['Meditation (mins)'] + df['Exercise (mins)']\n",
    "average=total_mins.mean()\n",
    "more_mins=total_mins[total_mins>average]\n",
    "less_mins=total_mins[total_mins<average]"
   ]
  },
  {
   "cell_type": "code",
   "execution_count": 21,
   "id": "61f57700",
   "metadata": {},
   "outputs": [
    {
     "data": {
      "text/plain": [
       "Text(0.5, 1.0, 'Days with More vs Less Total Minutes of Meditation + Exercise')"
      ]
     },
     "execution_count": 21,
     "metadata": {},
     "output_type": "execute_result"
    },
    {
     "data": {
      "image/png": "[encoded data removed]",
      "text/plain": [
       "<Figure size 640x480 with 1 Axes>"
      ]
     },
     "metadata": {},
     "output_type": "display_data"
    }
   ],
   "source": [
    "more_min_count=len(more_mins)\n",
    "less_min_count=len(less_mins)\n",
    "plt.bar(['More Minutes', 'Less Minutes'],[more_min_count, less_min_count],color=['skyblue','navy'])\n",
    "plt.ylabel('Number of Days')\n",
    "plt.title('Days with More vs Less Total Minutes of Meditation + Exercise')"
   ]
  },
  {
   "cell_type": "code",
   "execution_count": 22,
   "id": "d7512297",
   "metadata": {},
   "outputs": [
    {
     "name": "stdout",
     "output_type": "stream",
     "text": [
      "Breakfast Type\n",
      "Heavy           197\n",
      "Carb-rich       189\n",
      "Protein-rich    173\n",
      "Light           172\n",
      "Skipped         169\n",
      "Name: count, dtype: int64\n"
     ]
    }
   ],
   "source": [
    "breakfast_counts=df['Breakfast Type'].value_counts()\n",
    "print(breakfast_counts)"
   ]
  },
  {
   "cell_type": "code",
   "execution_count": 23,
   "id": "254c09ca",
   "metadata": {},
   "outputs": [
    {
     "data": {
      "text/plain": [
       "([<matplotlib.patches.Wedge at 0x227a78163e0>,\n",
       "  <matplotlib.patches.Wedge at 0x227a78170a0>,\n",
       "  <matplotlib.patches.Wedge at 0x227a7817f70>,\n",
       "  <matplotlib.patches.Wedge at 0x227a7610760>,\n",
       "  <matplotlib.patches.Wedge at 0x227a7610f10>],\n",
       " [Text(0.8500069202607615, 0.6982035774104968, 'Heavy'),\n",
       "  Text(-0.49253505623107574, 0.9835696306736251, 'Carb-rich'),\n",
       "  Text(-1.08645718962887, -0.17207781700073332, 'Protein-rich'),\n",
       "  Text(-0.22870259681029675, -1.0759624167284967, 'Light'),\n",
       "  Text(0.9140829085911598, -0.6119251884189157, 'Skipped')],\n",
       " [Text(0.4636401383240517, 0.38083831495118, '21.9%'),\n",
       "  Text(-0.2686554852169504, 0.5364925258219773, '21.0%'),\n",
       "  Text(-0.5926130125248381, -0.09386062745494543, '19.2%'),\n",
       "  Text(-0.12474687098743457, -0.5868885909428163, '19.1%'),\n",
       "  Text(0.49859067741335983, -0.33377737550122677, '18.8%')])"
      ]
     },
     "execution_count": 23,
     "metadata": {},
     "output_type": "execute_result"
    },
    {
     "data": {
      "image/png": "[encoded data removed]",
      "text/plain": [
       "<Figure size 640x480 with 1 Axes>"
      ]
     },
     "metadata": {},
     "output_type": "display_data"
    }
   ],
   "source": [
    "\n",
    "#pie chart for breakfast\n",
    "plt.pie(breakfast_counts,labels=breakfast_counts.index,autopct='%1.1f%%')\n"
   ]
  },
  {
   "cell_type": "code",
   "execution_count": 24,
   "id": "3ba2e4b8",
   "metadata": {},
   "outputs": [
    {
     "data": {
      "image/png": "[encoded data removed]",
      "text/plain": [
       "<Figure size 640x480 with 1 Axes>"
      ]
     },
     "metadata": {},
     "output_type": "display_data"
    }
   ],
   "source": [
    "#journaling bar chart\n",
    "df['Journaling (Y/N)'].value_counts().plot(kind='bar',color=['skyblue','salmon'])\n",
    "plt.title('Journaling Frequency')\n",
    "plt.ylabel('Number of Days')\n",
    "plt.show()"
   ]
  },
  {
   "cell_type": "code",
   "execution_count": 25,
   "id": "5ce4c13b",
   "metadata": {},
   "outputs": [
    {
     "name": "stdout",
     "output_type": "stream",
     "text": [
      "0.795539412710861\n"
     ]
    }
   ],
   "source": [
    "#correlation for productivity and sleep duration\n",
    "pro_correlation=df['Productivity Score (1-10)'].corr(df['Sleep Duration (hrs)'])\n",
    "print(pro_correlation)"
   ]
  },
  {
   "cell_type": "code",
   "execution_count": 28,
   "id": "b33d7ff3",
   "metadata": {},
   "outputs": [
    {
     "data": {
      "text/plain": [
       "<Axes: xlabel='Sleep Duration (hrs)', ylabel='Productivity Score (1-10)'>"
      ]
     },
     "execution_count": 28,
     "metadata": {},
     "output_type": "execute_result"
    },
    {
     "data": {
      "image/png": "[encoded data removed]",
      "text/plain": [
       "<Figure size 640x480 with 1 Axes>"
      ]
     },
     "metadata": {},
     "output_type": "display_data"
    }
   ],
   "source": [
    "sns.scatterplot(x='Sleep Duration (hrs)',y='Productivity Score (1-10)',hue='Mood',data=df,palette='Set1')"
   ]
  },
  {
   "cell_type": "code",
   "execution_count": 29,
   "id": "56d6acf8",
   "metadata": {},
   "outputs": [
    {
     "data": {
      "text/plain": [
       "Mood\n",
       "Sad        315\n",
       "Happy      313\n",
       "Neutral    272\n",
       "Name: count, dtype: int64"
      ]
     },
     "execution_count": 29,
     "metadata": {},
     "output_type": "execute_result"
    }
   ],
   "source": [
    "df['Mood'].value_counts()"
   ]
  },
  {
   "cell_type": "code",
   "execution_count": 30,
   "id": "4f0e513d",
   "metadata": {},
   "outputs": [
    {
     "data": {
      "text/html": [
       "<div>\n",
       "<style scoped>\n",
       "    .dataframe tbody tr th:only-of-type {\n",
       "        vertical-align: middle;\n",
       "    }\n",
       "\n",
       "    .dataframe tbody tr th {\n",
       "        vertical-align: top;\n",
       "    }\n",
       "\n",
       "    .dataframe thead th {\n",
       "        text-align: right;\n",
       "    }\n",
       "</style>\n",
       "<table border=\"1\" class=\"dataframe\">\n",
       "  <thead>\n",
       "    <tr style=\"text-align: right;\">\n",
       "      <th></th>\n",
       "      <th>Date</th>\n",
       "      <th>Wake-up Time</th>\n",
       "      <th>Sleep Duration (hrs)</th>\n",
       "      <th>Meditation (mins)</th>\n",
       "      <th>Exercise (mins)</th>\n",
       "      <th>Breakfast Type</th>\n",
       "      <th>Journaling (Y/N)</th>\n",
       "      <th>Work Start Time</th>\n",
       "      <th>Productivity Score (1-10)</th>\n",
       "      <th>Notes</th>\n",
       "      <th>Mood_encoded</th>\n",
       "    </tr>\n",
       "  </thead>\n",
       "  <tbody>\n",
       "    <tr>\n",
       "      <th>0</th>\n",
       "      <td>2023-02-01 10:21:52.870632</td>\n",
       "      <td>5:30 AM</td>\n",
       "      <td>6.6</td>\n",
       "      <td>20</td>\n",
       "      <td>60</td>\n",
       "      <td>Protein-rich</td>\n",
       "      <td>Yes</td>\n",
       "      <td>6:30 AM</td>\n",
       "      <td>6</td>\n",
       "      <td>Collection whole decision middle.</td>\n",
       "      <td>1</td>\n",
       "    </tr>\n",
       "    <tr>\n",
       "      <th>1</th>\n",
       "      <td>2023-02-02 10:21:52.870632</td>\n",
       "      <td>8:15 AM</td>\n",
       "      <td>8.0</td>\n",
       "      <td>5</td>\n",
       "      <td>50</td>\n",
       "      <td>Heavy</td>\n",
       "      <td>No</td>\n",
       "      <td>11:15 AM</td>\n",
       "      <td>7</td>\n",
       "      <td>Tree player behavior various up such attention...</td>\n",
       "      <td>2</td>\n",
       "    </tr>\n",
       "  </tbody>\n",
       "</table>\n",
       "</div>"
      ],
      "text/plain": [
       "                         Date Wake-up Time  Sleep Duration (hrs)  \\\n",
       "0  2023-02-01 10:21:52.870632      5:30 AM                   6.6   \n",
       "1  2023-02-02 10:21:52.870632      8:15 AM                   8.0   \n",
       "\n",
       "   Meditation (mins)  Exercise (mins) Breakfast Type Journaling (Y/N)  \\\n",
       "0                 20               60   Protein-rich              Yes   \n",
       "1                  5               50          Heavy               No   \n",
       "\n",
       "  Work Start Time  Productivity Score (1-10)  \\\n",
       "0         6:30 AM                          6   \n",
       "1        11:15 AM                          7   \n",
       "\n",
       "                                               Notes  Mood_encoded  \n",
       "0                  Collection whole decision middle.             1  \n",
       "1  Tree player behavior various up such attention...             2  "
      ]
     },
     "execution_count": 30,
     "metadata": {},
     "output_type": "execute_result"
    }
   ],
   "source": [
    "\n",
    "df['Mood_encoded']=df['Mood'].map({'Sad':0,'Neutral':1,'Happy':2})\n",
    "df.drop(columns='Mood',inplace=True)\n",
    "df.head(2)\n"
   ]
  },
  {
   "cell_type": "code",
   "execution_count": 31,
   "id": "5c47ef8b",
   "metadata": {},
   "outputs": [
    {
     "name": "stdout",
     "output_type": "stream",
     "text": [
      "0.8823742659459619\n"
     ]
    }
   ],
   "source": [
    "df_corr=df['Mood_encoded'].corr(df['Productivity Score (1-10)'])\n",
    "print(df_corr)"
   ]
  },
  {
   "cell_type": "code",
   "execution_count": 32,
   "id": "51873a1b",
   "metadata": {},
   "outputs": [
    {
     "name": "stderr",
     "output_type": "stream",
     "text": [
      "C:\\Users\\durka\\AppData\\Local\\Temp\\ipykernel_25584\\2169980441.py:1: UserWarning: The argument 'infer_datetime_format' is deprecated and will be removed in a future version. A strict version of it is now the default, see https://pandas.pydata.org/pdeps/0004-consistent-to-datetime-parsing.html. You can safely remove this argument.\n",
      "  df['Date']=pd.to_datetime(df['Date'],infer_datetime_format=True)\n"
     ]
    }
   ],
   "source": [
    "df['Date']=pd.to_datetime(df['Date'],infer_datetime_format=True)"
   ]
  },
  {
   "cell_type": "code",
   "execution_count": 33,
   "id": "79924f20",
   "metadata": {},
   "outputs": [
    {
     "data": {
      "text/html": [
       "<div>\n",
       "<style scoped>\n",
       "    .dataframe tbody tr th:only-of-type {\n",
       "        vertical-align: middle;\n",
       "    }\n",
       "\n",
       "    .dataframe tbody tr th {\n",
       "        vertical-align: top;\n",
       "    }\n",
       "\n",
       "    .dataframe thead th {\n",
       "        text-align: right;\n",
       "    }\n",
       "</style>\n",
       "<table border=\"1\" class=\"dataframe\">\n",
       "  <thead>\n",
       "    <tr style=\"text-align: right;\">\n",
       "      <th></th>\n",
       "      <th>Date</th>\n",
       "      <th>Wake-up Time</th>\n",
       "      <th>Sleep Duration (hrs)</th>\n",
       "      <th>Meditation (mins)</th>\n",
       "      <th>Exercise (mins)</th>\n",
       "      <th>Breakfast Type</th>\n",
       "      <th>Work Start Time</th>\n",
       "      <th>Productivity Score (1-10)</th>\n",
       "      <th>Notes</th>\n",
       "      <th>Mood_encoded</th>\n",
       "      <th>Journaling</th>\n",
       "    </tr>\n",
       "  </thead>\n",
       "  <tbody>\n",
       "    <tr>\n",
       "      <th>0</th>\n",
       "      <td>2023-02-01 10:21:52.870632</td>\n",
       "      <td>5:30 AM</td>\n",
       "      <td>6.6</td>\n",
       "      <td>20</td>\n",
       "      <td>60</td>\n",
       "      <td>Protein-rich</td>\n",
       "      <td>6:30 AM</td>\n",
       "      <td>6</td>\n",
       "      <td>Collection whole decision middle.</td>\n",
       "      <td>1</td>\n",
       "      <td>1</td>\n",
       "    </tr>\n",
       "    <tr>\n",
       "      <th>1</th>\n",
       "      <td>2023-02-02 10:21:52.870632</td>\n",
       "      <td>8:15 AM</td>\n",
       "      <td>8.0</td>\n",
       "      <td>5</td>\n",
       "      <td>50</td>\n",
       "      <td>Heavy</td>\n",
       "      <td>11:15 AM</td>\n",
       "      <td>7</td>\n",
       "      <td>Tree player behavior various up such attention...</td>\n",
       "      <td>2</td>\n",
       "      <td>0</td>\n",
       "    </tr>\n",
       "  </tbody>\n",
       "</table>\n",
       "</div>"
      ],
      "text/plain": [
       "                        Date Wake-up Time  Sleep Duration (hrs)  \\\n",
       "0 2023-02-01 10:21:52.870632      5:30 AM                   6.6   \n",
       "1 2023-02-02 10:21:52.870632      8:15 AM                   8.0   \n",
       "\n",
       "   Meditation (mins)  Exercise (mins) Breakfast Type Work Start Time  \\\n",
       "0                 20               60   Protein-rich         6:30 AM   \n",
       "1                  5               50          Heavy        11:15 AM   \n",
       "\n",
       "   Productivity Score (1-10)  \\\n",
       "0                          6   \n",
       "1                          7   \n",
       "\n",
       "                                               Notes  Mood_encoded  Journaling  \n",
       "0                  Collection whole decision middle.             1           1  \n",
       "1  Tree player behavior various up such attention...             2           0  "
      ]
     },
     "execution_count": 33,
     "metadata": {},
     "output_type": "execute_result"
    }
   ],
   "source": [
    "df['Journaling']=df['Journaling (Y/N)'].map({'Yes':1,'No':0})\n",
    "df.drop(columns='Journaling (Y/N)',inplace=True)\n",
    "df.head(2)"
   ]
  },
  {
   "cell_type": "code",
   "execution_count": 34,
   "id": "1f74d25f",
   "metadata": {},
   "outputs": [
    {
     "data": {
      "text/html": [
       "<div>\n",
       "<style scoped>\n",
       "    .dataframe tbody tr th:only-of-type {\n",
       "        vertical-align: middle;\n",
       "    }\n",
       "\n",
       "    .dataframe tbody tr th {\n",
       "        vertical-align: top;\n",
       "    }\n",
       "\n",
       "    .dataframe thead th {\n",
       "        text-align: right;\n",
       "    }\n",
       "</style>\n",
       "<table border=\"1\" class=\"dataframe\">\n",
       "  <thead>\n",
       "    <tr style=\"text-align: right;\">\n",
       "      <th></th>\n",
       "      <th>Date</th>\n",
       "      <th>Wake-up Time</th>\n",
       "      <th>Sleep Duration (hrs)</th>\n",
       "      <th>Meditation (mins)</th>\n",
       "      <th>Exercise (mins)</th>\n",
       "      <th>Work Start Time</th>\n",
       "      <th>Productivity Score (1-10)</th>\n",
       "      <th>Notes</th>\n",
       "      <th>Mood_encoded</th>\n",
       "      <th>Journaling</th>\n",
       "      <th>Breakfast Type_Heavy</th>\n",
       "      <th>Breakfast Type_Light</th>\n",
       "      <th>Breakfast Type_Protein-rich</th>\n",
       "      <th>Breakfast Type_Skipped</th>\n",
       "    </tr>\n",
       "  </thead>\n",
       "  <tbody>\n",
       "    <tr>\n",
       "      <th>0</th>\n",
       "      <td>2023-02-01 10:21:52.870632</td>\n",
       "      <td>5:30 AM</td>\n",
       "      <td>6.6</td>\n",
       "      <td>20</td>\n",
       "      <td>60</td>\n",
       "      <td>6:30 AM</td>\n",
       "      <td>6</td>\n",
       "      <td>Collection whole decision middle.</td>\n",
       "      <td>1</td>\n",
       "      <td>1</td>\n",
       "      <td>0</td>\n",
       "      <td>0</td>\n",
       "      <td>1</td>\n",
       "      <td>0</td>\n",
       "    </tr>\n",
       "    <tr>\n",
       "      <th>1</th>\n",
       "      <td>2023-02-02 10:21:52.870632</td>\n",
       "      <td>8:15 AM</td>\n",
       "      <td>8.0</td>\n",
       "      <td>5</td>\n",
       "      <td>50</td>\n",
       "      <td>11:15 AM</td>\n",
       "      <td>7</td>\n",
       "      <td>Tree player behavior various up such attention...</td>\n",
       "      <td>2</td>\n",
       "      <td>0</td>\n",
       "      <td>1</td>\n",
       "      <td>0</td>\n",
       "      <td>0</td>\n",
       "      <td>0</td>\n",
       "    </tr>\n",
       "  </tbody>\n",
       "</table>\n",
       "</div>"
      ],
      "text/plain": [
       "                        Date Wake-up Time  Sleep Duration (hrs)  \\\n",
       "0 2023-02-01 10:21:52.870632      5:30 AM                   6.6   \n",
       "1 2023-02-02 10:21:52.870632      8:15 AM                   8.0   \n",
       "\n",
       "   Meditation (mins)  Exercise (mins) Work Start Time  \\\n",
       "0                 20               60         6:30 AM   \n",
       "1                  5               50        11:15 AM   \n",
       "\n",
       "   Productivity Score (1-10)  \\\n",
       "0                          6   \n",
       "1                          7   \n",
       "\n",
       "                                               Notes  Mood_encoded  \\\n",
       "0                  Collection whole decision middle.             1   \n",
       "1  Tree player behavior various up such attention...             2   \n",
       "\n",
       "   Journaling  Breakfast Type_Heavy  Breakfast Type_Light  \\\n",
       "0           1                     0                     0   \n",
       "1           0                     1                     0   \n",
       "\n",
       "   Breakfast Type_Protein-rich  Breakfast Type_Skipped  \n",
       "0                            1                       0  \n",
       "1                            0                       0  "
      ]
     },
     "execution_count": 34,
     "metadata": {},
     "output_type": "execute_result"
    }
   ],
   "source": [
    "df=pd.get_dummies(df,columns=['Breakfast Type'],drop_first=True)\n",
    "bool_cols=df.select_dtypes(include='bool').columns\n",
    "df[bool_cols]=df[bool_cols].astype(int)\n",
    "df.head(2)"
   ]
  },
  {
   "cell_type": "code",
   "execution_count": 35,
   "id": "33db3a51",
   "metadata": {},
   "outputs": [
    {
     "data": {
      "text/html": [
       "<div>\n",
       "<style scoped>\n",
       "    .dataframe tbody tr th:only-of-type {\n",
       "        vertical-align: middle;\n",
       "    }\n",
       "\n",
       "    .dataframe tbody tr th {\n",
       "        vertical-align: top;\n",
       "    }\n",
       "\n",
       "    .dataframe thead th {\n",
       "        text-align: right;\n",
       "    }\n",
       "</style>\n",
       "<table border=\"1\" class=\"dataframe\">\n",
       "  <thead>\n",
       "    <tr style=\"text-align: right;\">\n",
       "      <th></th>\n",
       "      <th>Date</th>\n",
       "      <th>Wake-up Time</th>\n",
       "      <th>Sleep Duration (hrs)</th>\n",
       "      <th>Meditation (mins)</th>\n",
       "      <th>Exercise (mins)</th>\n",
       "      <th>Work Start Time</th>\n",
       "      <th>Productivity Score (1-10)</th>\n",
       "      <th>Notes</th>\n",
       "      <th>Mood_encoded</th>\n",
       "      <th>Journaling</th>\n",
       "      <th>Breakfast Type_Heavy</th>\n",
       "      <th>Breakfast Type_Light</th>\n",
       "      <th>Breakfast Type_Protein-rich</th>\n",
       "      <th>Breakfast Type_Skipped</th>\n",
       "    </tr>\n",
       "  </thead>\n",
       "  <tbody>\n",
       "    <tr>\n",
       "      <th>0</th>\n",
       "      <td>2023-02-01 10:21:52.870632</td>\n",
       "      <td>05:30:00</td>\n",
       "      <td>6.6</td>\n",
       "      <td>20</td>\n",
       "      <td>60</td>\n",
       "      <td>06:30:00</td>\n",
       "      <td>6</td>\n",
       "      <td>Collection whole decision middle.</td>\n",
       "      <td>1</td>\n",
       "      <td>1</td>\n",
       "      <td>0</td>\n",
       "      <td>0</td>\n",
       "      <td>1</td>\n",
       "      <td>0</td>\n",
       "    </tr>\n",
       "    <tr>\n",
       "      <th>1</th>\n",
       "      <td>2023-02-02 10:21:52.870632</td>\n",
       "      <td>08:15:00</td>\n",
       "      <td>8.0</td>\n",
       "      <td>5</td>\n",
       "      <td>50</td>\n",
       "      <td>11:15:00</td>\n",
       "      <td>7</td>\n",
       "      <td>Tree player behavior various up such attention...</td>\n",
       "      <td>2</td>\n",
       "      <td>0</td>\n",
       "      <td>1</td>\n",
       "      <td>0</td>\n",
       "      <td>0</td>\n",
       "      <td>0</td>\n",
       "    </tr>\n",
       "  </tbody>\n",
       "</table>\n",
       "</div>"
      ],
      "text/plain": [
       "                        Date Wake-up Time  Sleep Duration (hrs)  \\\n",
       "0 2023-02-01 10:21:52.870632     05:30:00                   6.6   \n",
       "1 2023-02-02 10:21:52.870632     08:15:00                   8.0   \n",
       "\n",
       "   Meditation (mins)  Exercise (mins) Work Start Time  \\\n",
       "0                 20               60        06:30:00   \n",
       "1                  5               50        11:15:00   \n",
       "\n",
       "   Productivity Score (1-10)  \\\n",
       "0                          6   \n",
       "1                          7   \n",
       "\n",
       "                                               Notes  Mood_encoded  \\\n",
       "0                  Collection whole decision middle.             1   \n",
       "1  Tree player behavior various up such attention...             2   \n",
       "\n",
       "   Journaling  Breakfast Type_Heavy  Breakfast Type_Light  \\\n",
       "0           1                     0                     0   \n",
       "1           0                     1                     0   \n",
       "\n",
       "   Breakfast Type_Protein-rich  Breakfast Type_Skipped  \n",
       "0                            1                       0  \n",
       "1                            0                       0  "
      ]
     },
     "execution_count": 35,
     "metadata": {},
     "output_type": "execute_result"
    }
   ],
   "source": [
    "\n",
    "df['Wake-up Time']=pd.to_datetime(df['Wake-up Time'],format='%I:%M %p').dt.time\n",
    "df['Work Start Time']=pd.to_datetime(df['Work Start Time'],format='%I:%M %p').dt.time\n",
    "df.head(2)"
   ]
  }
 ],
 "metadata": {
  "kernelspec": {
   "display_name": "Python 3",
   "language": "python",
   "name": "python3"
  },
  "language_info": {
   "codemirror_mode": {
    "name": "ipython",
    "version": 3
   },
   "file_extension": ".py",
   "mimetype": "text/x-python",
   "name": "python",
   "nbconvert_exporter": "python",
   "pygments_lexer": "ipython3",
   "version": "3.10.18"
  }
 },
 "nbformat": 4,
 "nbformat_minor": 5
}
